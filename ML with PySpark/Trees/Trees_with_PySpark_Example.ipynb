{
  "cells": [
    {
      "cell_type": "markdown",
      "metadata": {
        "id": "gT69mY4m1UOK"
      },
      "source": [
        "# Tree Methods\n",
        "\n",
        "In this code we work with some data and test out 3 different tree methods:\n",
        "\n",
        "* A single decision tree\n",
        "* A random forest\n",
        "* A gradient boosted tree classifier\n",
        "    \n",
        "We will be using a college dataset to try to classify colleges as Private or Public based off these features:\n",
        "\n",
        "    Private A factor with levels No and Yes indicating private or public university\n",
        "    Apps Number of applications received\n",
        "    Accept Number of applications accepted\n",
        "    Enroll Number of new students enrolled\n",
        "    Top10perc Pct. new students from top 10% of H.S. class\n",
        "    Top25perc Pct. new students from top 25% of H.S. class\n",
        "    F.Undergrad Number of fulltime undergraduates\n",
        "    P.Undergrad Number of parttime undergraduates\n",
        "    Outstate Out-of-state tuition\n",
        "    Room.Board Room and board costs\n",
        "    Books Estimated book costs\n",
        "    Personal Estimated personal spending\n",
        "    PhD Pct. of faculty with Ph.D.’s\n",
        "    Terminal Pct. of faculty with terminal degree\n",
        "    S.F.Ratio Student/faculty ratio\n",
        "    perc.alumni Pct. alumni who donate\n",
        "    Expend Instructional expenditure per student\n",
        "    Grad.Rate Graduation rate"
      ]
    },
    {
      "cell_type": "code",
      "source": [
        "!pip install pyspark"
      ],
      "metadata": {
        "colab": {
          "base_uri": "https://localhost:8080/"
        },
        "id": "8xs-u8T72Pnh",
        "outputId": "489b527d-f022-4bad-a4fc-f63c29f24d80"
      },
      "execution_count": 4,
      "outputs": [
        {
          "output_type": "stream",
          "name": "stdout",
          "text": [
            "Looking in indexes: https://pypi.org/simple, https://us-python.pkg.dev/colab-wheels/public/simple/\n",
            "Collecting pyspark\n",
            "  Using cached pyspark-3.4.0.tar.gz (310.8 MB)\n",
            "  Preparing metadata (setup.py) ... \u001b[?25l\u001b[?25hdone\n",
            "Requirement already satisfied: py4j==0.10.9.7 in /usr/local/lib/python3.10/dist-packages (from pyspark) (0.10.9.7)\n",
            "Building wheels for collected packages: pyspark\n",
            "  Building wheel for pyspark (setup.py) ... \u001b[?25l\u001b[?25hdone\n",
            "  Created wheel for pyspark: filename=pyspark-3.4.0-py2.py3-none-any.whl size=311317130 sha256=6a73fa6d36a19f8edcdfba2ed920afe065ff72da15eb1ce38b1ce3aebad33297\n",
            "  Stored in directory: /root/.cache/pip/wheels/7b/1b/4b/3363a1d04368e7ff0d408e57ff57966fcdf00583774e761327\n",
            "Successfully built pyspark\n",
            "Installing collected packages: pyspark\n",
            "Successfully installed pyspark-3.4.0\n"
          ]
        }
      ]
    },
    {
      "cell_type": "code",
      "execution_count": 5,
      "metadata": {
        "collapsed": true,
        "id": "iMpLlkbK1UOX"
      },
      "outputs": [],
      "source": [
        "#Tree methods Example\n",
        "from pyspark.sql import SparkSession\n",
        "spark = SparkSession.builder.appName('treecode').getOrCreate()"
      ]
    },
    {
      "cell_type": "code",
      "execution_count": 6,
      "metadata": {
        "collapsed": true,
        "id": "Tl_WKKkT1UOc"
      },
      "outputs": [],
      "source": [
        "# Load training data\n",
        "data = spark.read.csv('College.csv',inferSchema=True,header=True)"
      ]
    },
    {
      "cell_type": "code",
      "execution_count": 7,
      "metadata": {
        "colab": {
          "base_uri": "https://localhost:8080/"
        },
        "id": "MAwsDGJ91UOd",
        "outputId": "f81bfb38-ff15-436e-cd26-5e52100dade3"
      },
      "outputs": [
        {
          "output_type": "stream",
          "name": "stdout",
          "text": [
            "root\n",
            " |-- School: string (nullable = true)\n",
            " |-- Private: string (nullable = true)\n",
            " |-- Apps: integer (nullable = true)\n",
            " |-- Accept: integer (nullable = true)\n",
            " |-- Enroll: integer (nullable = true)\n",
            " |-- Top10perc: integer (nullable = true)\n",
            " |-- Top25perc: integer (nullable = true)\n",
            " |-- F_Undergrad: integer (nullable = true)\n",
            " |-- P_Undergrad: integer (nullable = true)\n",
            " |-- Outstate: integer (nullable = true)\n",
            " |-- Room_Board: integer (nullable = true)\n",
            " |-- Books: integer (nullable = true)\n",
            " |-- Personal: integer (nullable = true)\n",
            " |-- PhD: integer (nullable = true)\n",
            " |-- Terminal: integer (nullable = true)\n",
            " |-- S_F_Ratio: double (nullable = true)\n",
            " |-- perc_alumni: integer (nullable = true)\n",
            " |-- Expend: integer (nullable = true)\n",
            " |-- Grad_Rate: integer (nullable = true)\n",
            "\n"
          ]
        }
      ],
      "source": [
        "data.printSchema()"
      ]
    },
    {
      "cell_type": "code",
      "execution_count": 8,
      "metadata": {
        "colab": {
          "base_uri": "https://localhost:8080/"
        },
        "id": "NbkQiMML1UOg",
        "outputId": "1d0d1ae9-c981-468d-9e66-86ff036c33b6"
      },
      "outputs": [
        {
          "output_type": "execute_result",
          "data": {
            "text/plain": [
              "Row(School='Abilene Christian University', Private='Yes', Apps=1660, Accept=1232, Enroll=721, Top10perc=23, Top25perc=52, F_Undergrad=2885, P_Undergrad=537, Outstate=7440, Room_Board=3300, Books=450, Personal=2200, PhD=70, Terminal=78, S_F_Ratio=18.1, perc_alumni=12, Expend=7041, Grad_Rate=60)"
            ]
          },
          "metadata": {},
          "execution_count": 8
        }
      ],
      "source": [
        "data.head()"
      ]
    },
    {
      "cell_type": "markdown",
      "metadata": {
        "id": "c2h-eti71UOh"
      },
      "source": [
        "### Spark Formatting of Data"
      ]
    },
    {
      "cell_type": "code",
      "execution_count": 9,
      "metadata": {
        "collapsed": true,
        "id": "HYsfgW_01UOi"
      },
      "outputs": [],
      "source": [
        "# A few things we need to do before Spark can accept the data!\n",
        "# It needs to be in the form of two columns\n",
        "# (\"label\",\"features\")\n",
        "\n",
        "# Import VectorAssembler and Vectors\n",
        "from pyspark.ml.linalg import Vectors\n",
        "from pyspark.ml.feature import VectorAssembler"
      ]
    },
    {
      "cell_type": "code",
      "execution_count": 10,
      "metadata": {
        "colab": {
          "base_uri": "https://localhost:8080/"
        },
        "id": "pur4Gqd91UOk",
        "outputId": "25a3154e-9a36-4925-b722-1b7dd43012ac"
      },
      "outputs": [
        {
          "output_type": "execute_result",
          "data": {
            "text/plain": [
              "['School',\n",
              " 'Private',\n",
              " 'Apps',\n",
              " 'Accept',\n",
              " 'Enroll',\n",
              " 'Top10perc',\n",
              " 'Top25perc',\n",
              " 'F_Undergrad',\n",
              " 'P_Undergrad',\n",
              " 'Outstate',\n",
              " 'Room_Board',\n",
              " 'Books',\n",
              " 'Personal',\n",
              " 'PhD',\n",
              " 'Terminal',\n",
              " 'S_F_Ratio',\n",
              " 'perc_alumni',\n",
              " 'Expend',\n",
              " 'Grad_Rate']"
            ]
          },
          "metadata": {},
          "execution_count": 10
        }
      ],
      "source": [
        "data.columns"
      ]
    },
    {
      "cell_type": "code",
      "execution_count": 11,
      "metadata": {
        "id": "SZ0sCRTk1UOm"
      },
      "outputs": [],
      "source": [
        "assembler = VectorAssembler(\n",
        "  inputCols=['Apps',\n",
        "             'Accept',\n",
        "             'Enroll',\n",
        "             'Top10perc',\n",
        "             'Top25perc',\n",
        "             'F_Undergrad',\n",
        "             'P_Undergrad',\n",
        "             'Outstate',\n",
        "             'Room_Board',\n",
        "             'Books',\n",
        "             'Personal',\n",
        "             'PhD',\n",
        "             'Terminal',\n",
        "             'S_F_Ratio',\n",
        "             'perc_alumni',\n",
        "             'Expend',\n",
        "             'Grad_Rate'],\n",
        "              outputCol=\"features\")"
      ]
    },
    {
      "cell_type": "code",
      "execution_count": 12,
      "metadata": {
        "id": "n7q10owY1UOo"
      },
      "outputs": [],
      "source": [
        "output = assembler.transform(data)"
      ]
    },
    {
      "cell_type": "markdown",
      "metadata": {
        "id": "fAmzaWnM1UOq"
      },
      "source": [
        "Deal with Private column being \"yes\" or \"no\""
      ]
    },
    {
      "cell_type": "code",
      "execution_count": 13,
      "metadata": {
        "collapsed": true,
        "id": "JKZDCQxE1UOr"
      },
      "outputs": [],
      "source": [
        "from pyspark.ml.feature import StringIndexer"
      ]
    },
    {
      "cell_type": "code",
      "execution_count": 14,
      "metadata": {
        "id": "8tQEsLgX1UOs"
      },
      "outputs": [],
      "source": [
        "indexer = StringIndexer(inputCol=\"Private\", outputCol=\"PrivateIndex\")\n",
        "output_fixed = indexer.fit(output).transform(output)"
      ]
    },
    {
      "cell_type": "code",
      "execution_count": 15,
      "metadata": {
        "collapsed": true,
        "id": "eMhQLZaX1UOt"
      },
      "outputs": [],
      "source": [
        "final_data = output_fixed.select(\"features\",'PrivateIndex')"
      ]
    },
    {
      "cell_type": "code",
      "execution_count": 16,
      "metadata": {
        "collapsed": true,
        "id": "bTynuQjc1UOu"
      },
      "outputs": [],
      "source": [
        "train_data,test_data = final_data.randomSplit([0.7,0.3])"
      ]
    },
    {
      "cell_type": "markdown",
      "metadata": {
        "id": "JfLlv06-1UOv"
      },
      "source": [
        "### The Classifiers"
      ]
    },
    {
      "cell_type": "code",
      "execution_count": 17,
      "metadata": {
        "collapsed": true,
        "id": "1JQI8NLP1UOv"
      },
      "outputs": [],
      "source": [
        "from pyspark.ml.classification import DecisionTreeClassifier,GBTClassifier,RandomForestClassifier\n",
        "from pyspark.ml import Pipeline"
      ]
    },
    {
      "cell_type": "markdown",
      "metadata": {
        "id": "exMZdJHz1UOw"
      },
      "source": [
        "Create all three models:"
      ]
    },
    {
      "cell_type": "code",
      "execution_count": 18,
      "metadata": {
        "collapsed": true,
        "id": "bsRv1X4P1UOx"
      },
      "outputs": [],
      "source": [
        "# Use mostly defaults to make this comparison \"fair\"\n",
        "\n",
        "dtc = DecisionTreeClassifier(labelCol='PrivateIndex',featuresCol='features')\n",
        "rfc = RandomForestClassifier(labelCol='PrivateIndex',featuresCol='features')\n",
        "gbt = GBTClassifier(labelCol='PrivateIndex',featuresCol='features')"
      ]
    },
    {
      "cell_type": "markdown",
      "metadata": {
        "id": "KUP10Yiz1UOy"
      },
      "source": [
        "Train all three models:"
      ]
    },
    {
      "cell_type": "code",
      "execution_count": 19,
      "metadata": {
        "id": "Lxig3ZPr1UOy"
      },
      "outputs": [],
      "source": [
        "# Train the models (its three models, so it might take some time)\n",
        "dtc_model = dtc.fit(train_data)\n",
        "rfc_model = rfc.fit(train_data)\n",
        "gbt_model = gbt.fit(train_data)"
      ]
    },
    {
      "cell_type": "markdown",
      "metadata": {
        "id": "mmH9egSZ1UOz"
      },
      "source": [
        "## Model Comparison\n",
        "\n",
        "Let's compare each of these models!"
      ]
    },
    {
      "cell_type": "code",
      "execution_count": 20,
      "metadata": {
        "id": "QXOjJJ-o1UO0"
      },
      "outputs": [],
      "source": [
        "dtc_predictions = dtc_model.transform(test_data)\n",
        "rfc_predictions = rfc_model.transform(test_data)\n",
        "gbt_predictions = gbt_model.transform(test_data)"
      ]
    },
    {
      "cell_type": "markdown",
      "metadata": {
        "id": "Y566-ZL21UO2"
      },
      "source": [
        "**Evaluation Metrics:**"
      ]
    },
    {
      "cell_type": "code",
      "execution_count": 21,
      "metadata": {
        "collapsed": true,
        "id": "4e5BW7TS1UO2"
      },
      "outputs": [],
      "source": [
        "from pyspark.ml.evaluation import MulticlassClassificationEvaluator"
      ]
    },
    {
      "cell_type": "code",
      "execution_count": 22,
      "metadata": {
        "collapsed": true,
        "id": "zJLLAe-l1UO4"
      },
      "outputs": [],
      "source": [
        "# Select (prediction, true label) and compute test error\n",
        "acc_evaluator = MulticlassClassificationEvaluator(labelCol=\"PrivateIndex\", predictionCol=\"prediction\", metricName=\"accuracy\")"
      ]
    },
    {
      "cell_type": "code",
      "execution_count": 23,
      "metadata": {
        "id": "VBkMdP7N1UO5"
      },
      "outputs": [],
      "source": [
        "dtc_acc = acc_evaluator.evaluate(dtc_predictions)\n",
        "rfc_acc = acc_evaluator.evaluate(rfc_predictions)\n",
        "gbt_acc = acc_evaluator.evaluate(gbt_predictions)"
      ]
    },
    {
      "cell_type": "code",
      "execution_count": 24,
      "metadata": {
        "colab": {
          "base_uri": "https://localhost:8080/"
        },
        "id": "qJQJjGcE1UO6",
        "outputId": "4c190df6-b9c3-434e-cce0-1806725f887b"
      },
      "outputs": [
        {
          "output_type": "stream",
          "name": "stdout",
          "text": [
            "Here are the results!\n",
            "--------------------------------------------------------------------------------\n",
            "A single decision tree had an accuracy of: 90.52%\n",
            "--------------------------------------------------------------------------------\n",
            "A random forest ensemble had an accuracy of: 93.97%\n",
            "--------------------------------------------------------------------------------\n",
            "A ensemble using GBT had an accuracy of: 90.52%\n"
          ]
        }
      ],
      "source": [
        "print(\"Here are the results!\")\n",
        "print('-'*80)\n",
        "print('A single decision tree had an accuracy of: {0:2.2f}%'.format(dtc_acc*100))\n",
        "print('-'*80)\n",
        "print('A random forest ensemble had an accuracy of: {0:2.2f}%'.format(rfc_acc*100))\n",
        "print('-'*80)\n",
        "print('A ensemble using GBT had an accuracy of: {0:2.2f}%'.format(gbt_acc*100))"
      ]
    }
  ],
  "metadata": {
    "anaconda-cloud": {},
    "kernelspec": {
      "display_name": "Python [conda root]",
      "language": "python",
      "name": "conda-root-py"
    },
    "language_info": {
      "codemirror_mode": {
        "name": "ipython",
        "version": 3
      },
      "file_extension": ".py",
      "mimetype": "text/x-python",
      "name": "python",
      "nbconvert_exporter": "python",
      "pygments_lexer": "ipython3",
      "version": "3.5.3"
    },
    "colab": {
      "provenance": []
    }
  },
  "nbformat": 4,
  "nbformat_minor": 0
}