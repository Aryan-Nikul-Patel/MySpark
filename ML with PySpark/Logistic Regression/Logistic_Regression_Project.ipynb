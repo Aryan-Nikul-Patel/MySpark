{
  "cells": [
    {
      "cell_type": "markdown",
      "metadata": {
        "id": "HyCq69qetu6g"
      },
      "source": [
        "# Logistic Regression Project\n"
      ]
    },
    {
      "cell_type": "markdown",
      "metadata": {
        "collapsed": true,
        "id": "ELZr8qOitu6n"
      },
      "source": [
        "## Binary Customer Churn\n",
        "\n",
        "A marketing agency has many customers that use their service to produce ads for the client/customer websites. They've noticed that they have quite a bit of churn in clients. They basically randomly assign account managers right now, but want you to create a machine learning model that will help predict which customers will churn (stop buying their service) so that they can correctly assign the customers most at risk to churn an account manager. Luckily they have some historical data, can you help them out? Create a classification algorithm that will help classify whether or not a customer churned. Then the company can test this against incoming data for future customers to predict which customers will churn and assign them an account manager.\n",
        "\n",
        "The data is saved as customer_churn.csv. Here are the fields and their definitions:\n",
        "\n",
        "    Name : Name of the latest contact at Company\n",
        "    Age: Customer Age\n",
        "    Total_Purchase: Total Ads Purchased\n",
        "    Account_Manager: Binary 0=No manager, 1= Account manager assigned\n",
        "    Years: Totaly Years as a customer\n",
        "    Num_sites: Number of websites that use the service.\n",
        "    Onboard_date: Date that the name of the latest contact was onboarded\n",
        "    Location: Client HQ Address\n",
        "    Company: Name of Client Company\n",
        "    \n",
        "Once you've created the model and evaluated it, test out the model on some new data (you can think of this almost like a hold-out set) that your client has provided, saved under new_customers.csv. The client wants to know which customers are most likely to churn given this data (they don't have the label yet)."
      ]
    },
    {
      "cell_type": "code",
      "source": [
        "!pip install pyspark"
      ],
      "metadata": {
        "colab": {
          "base_uri": "https://localhost:8080/"
        },
        "id": "hmremhd1ud3C",
        "outputId": "65855ad0-fb74-4449-dea9-4f09e7517b8f"
      },
      "execution_count": 1,
      "outputs": [
        {
          "output_type": "stream",
          "name": "stdout",
          "text": [
            "Looking in indexes: https://pypi.org/simple, https://us-python.pkg.dev/colab-wheels/public/simple/\n",
            "Collecting pyspark\n",
            "  Downloading pyspark-3.4.0.tar.gz (310.8 MB)\n",
            "\u001b[2K     \u001b[90m━━━━━━━━━━━━━━━━━━━━━━━━━━━━━━━━━━━━━━━\u001b[0m \u001b[32m310.8/310.8 MB\u001b[0m \u001b[31m4.1 MB/s\u001b[0m eta \u001b[36m0:00:00\u001b[0m\n",
            "\u001b[?25h  Preparing metadata (setup.py) ... \u001b[?25l\u001b[?25hdone\n",
            "Requirement already satisfied: py4j==0.10.9.7 in /usr/local/lib/python3.10/dist-packages (from pyspark) (0.10.9.7)\n",
            "Building wheels for collected packages: pyspark\n",
            "  Building wheel for pyspark (setup.py) ... \u001b[?25l\u001b[?25hdone\n",
            "  Created wheel for pyspark: filename=pyspark-3.4.0-py2.py3-none-any.whl size=311317130 sha256=3cceef43eccc3f880576706fc482f63b9539f79d40a65ad2a859767b78e9c999\n",
            "  Stored in directory: /root/.cache/pip/wheels/7b/1b/4b/3363a1d04368e7ff0d408e57ff57966fcdf00583774e761327\n",
            "Successfully built pyspark\n",
            "Installing collected packages: pyspark\n",
            "Successfully installed pyspark-3.4.0\n"
          ]
        }
      ]
    },
    {
      "cell_type": "code",
      "execution_count": 2,
      "metadata": {
        "collapsed": true,
        "id": "BJ8Viln3tu6o"
      },
      "outputs": [],
      "source": [
        "from pyspark.sql import SparkSession"
      ]
    },
    {
      "cell_type": "code",
      "execution_count": 3,
      "metadata": {
        "collapsed": true,
        "id": "qHZnnFWktu6q"
      },
      "outputs": [],
      "source": [
        "spark = SparkSession.builder.appName('logregconsult').getOrCreate()"
      ]
    },
    {
      "cell_type": "code",
      "execution_count": 4,
      "metadata": {
        "collapsed": true,
        "id": "CjNSw4Ustu6r"
      },
      "outputs": [],
      "source": [
        "data = spark.read.csv('customer_churn.csv',inferSchema=True,\n",
        "                     header=True)"
      ]
    },
    {
      "cell_type": "code",
      "execution_count": 5,
      "metadata": {
        "colab": {
          "base_uri": "https://localhost:8080/"
        },
        "id": "ZMtARr20tu6r",
        "outputId": "173093a9-c9e6-42ff-bf36-f0b34c805cdc"
      },
      "outputs": [
        {
          "output_type": "stream",
          "name": "stdout",
          "text": [
            "root\n",
            " |-- Names: string (nullable = true)\n",
            " |-- Age: double (nullable = true)\n",
            " |-- Total_Purchase: double (nullable = true)\n",
            " |-- Account_Manager: integer (nullable = true)\n",
            " |-- Years: double (nullable = true)\n",
            " |-- Num_Sites: double (nullable = true)\n",
            " |-- Onboard_date: timestamp (nullable = true)\n",
            " |-- Location: string (nullable = true)\n",
            " |-- Company: string (nullable = true)\n",
            " |-- Churn: integer (nullable = true)\n",
            "\n"
          ]
        }
      ],
      "source": [
        "data.printSchema()"
      ]
    },
    {
      "cell_type": "markdown",
      "metadata": {
        "id": "pnZ0Nr03tu6t"
      },
      "source": [
        "### Check out the data"
      ]
    },
    {
      "cell_type": "code",
      "execution_count": 6,
      "metadata": {
        "colab": {
          "base_uri": "https://localhost:8080/"
        },
        "id": "ilCaVc0Utu6u",
        "outputId": "68891bd7-1c12-4641-9b19-3e0de3de723b"
      },
      "outputs": [
        {
          "output_type": "stream",
          "name": "stdout",
          "text": [
            "+-------+-------------+-----------------+-----------------+------------------+-----------------+------------------+--------------------+--------------------+-------------------+\n",
            "|summary|        Names|              Age|   Total_Purchase|   Account_Manager|            Years|         Num_Sites|            Location|             Company|              Churn|\n",
            "+-------+-------------+-----------------+-----------------+------------------+-----------------+------------------+--------------------+--------------------+-------------------+\n",
            "|  count|          900|              900|              900|               900|              900|               900|                 900|                 900|                900|\n",
            "|   mean|         null|41.81666666666667|10062.82403333334|0.4811111111111111| 5.27315555555555| 8.587777777777777|                null|                null|0.16666666666666666|\n",
            "| stddev|         null|6.127560416916251|2408.644531858096|0.4999208935073339|1.274449013194616|1.7648355920350969|                null|                null| 0.3728852122772358|\n",
            "|    min|   Aaron King|             22.0|            100.0|                 0|              1.0|               3.0|00103 Jeffrey Cre...|     Abbott-Thompson|                  0|\n",
            "|    max|Zachary Walsh|             65.0|         18026.01|                 1|             9.15|              14.0|Unit 9800 Box 287...|Zuniga, Clark and...|                  1|\n",
            "+-------+-------------+-----------------+-----------------+------------------+-----------------+------------------+--------------------+--------------------+-------------------+\n",
            "\n"
          ]
        }
      ],
      "source": [
        "data.describe().show()"
      ]
    },
    {
      "cell_type": "code",
      "execution_count": 7,
      "metadata": {
        "colab": {
          "base_uri": "https://localhost:8080/"
        },
        "id": "64D0AzXhtu6u",
        "outputId": "d7909004-39d2-4000-b6e6-b344d5def4b4"
      },
      "outputs": [
        {
          "output_type": "execute_result",
          "data": {
            "text/plain": [
              "['Names',\n",
              " 'Age',\n",
              " 'Total_Purchase',\n",
              " 'Account_Manager',\n",
              " 'Years',\n",
              " 'Num_Sites',\n",
              " 'Onboard_date',\n",
              " 'Location',\n",
              " 'Company',\n",
              " 'Churn']"
            ]
          },
          "metadata": {},
          "execution_count": 7
        }
      ],
      "source": [
        "data.columns"
      ]
    },
    {
      "cell_type": "markdown",
      "metadata": {
        "id": "fhKLpjVstu6w"
      },
      "source": [
        "### Format for MLlib\n",
        "\n",
        "We'll ues the numerical columns. We'll include Account Manager because its easy enough, but keep in mind it probably won't be any sort of a signal because the agency mentioned its randomly assigned!"
      ]
    },
    {
      "cell_type": "code",
      "execution_count": 8,
      "metadata": {
        "collapsed": true,
        "id": "GHpAJOIPtu6x"
      },
      "outputs": [],
      "source": [
        "from pyspark.ml.feature import VectorAssembler"
      ]
    },
    {
      "cell_type": "code",
      "execution_count": 9,
      "metadata": {
        "collapsed": true,
        "id": "ffKxo3oCtu6x"
      },
      "outputs": [],
      "source": [
        "assembler = VectorAssembler(inputCols=['Age',\n",
        " 'Total_Purchase',\n",
        " 'Account_Manager',\n",
        " 'Years',\n",
        " 'Num_Sites'],outputCol='features')"
      ]
    },
    {
      "cell_type": "code",
      "execution_count": 10,
      "metadata": {
        "collapsed": true,
        "id": "fWRE7P3Vtu6y"
      },
      "outputs": [],
      "source": [
        "output = assembler.transform(data)"
      ]
    },
    {
      "cell_type": "code",
      "execution_count": 11,
      "metadata": {
        "collapsed": true,
        "id": "Pl07LoZNtu6y"
      },
      "outputs": [],
      "source": [
        "final_data = output.select('features','churn')"
      ]
    },
    {
      "cell_type": "markdown",
      "metadata": {
        "id": "fqr12tIDtu6z"
      },
      "source": [
        "### Test Train Split"
      ]
    },
    {
      "cell_type": "code",
      "execution_count": 12,
      "metadata": {
        "collapsed": true,
        "id": "AW-aZjYwtu6z"
      },
      "outputs": [],
      "source": [
        "train_churn,test_churn = final_data.randomSplit([0.7,0.3])"
      ]
    },
    {
      "cell_type": "markdown",
      "metadata": {
        "id": "aDQE38AStu60"
      },
      "source": [
        "### Fit the model"
      ]
    },
    {
      "cell_type": "code",
      "execution_count": 13,
      "metadata": {
        "collapsed": true,
        "id": "HutpOKvztu60"
      },
      "outputs": [],
      "source": [
        "from pyspark.ml.classification import LogisticRegression"
      ]
    },
    {
      "cell_type": "code",
      "execution_count": 14,
      "metadata": {
        "collapsed": true,
        "id": "WmbvBv3ktu61"
      },
      "outputs": [],
      "source": [
        "lr_churn = LogisticRegression(labelCol='churn')"
      ]
    },
    {
      "cell_type": "code",
      "execution_count": 15,
      "metadata": {
        "collapsed": true,
        "id": "o8RaUwcatu61"
      },
      "outputs": [],
      "source": [
        "fitted_churn_model = lr_churn.fit(train_churn)"
      ]
    },
    {
      "cell_type": "code",
      "execution_count": 16,
      "metadata": {
        "collapsed": true,
        "id": "t5hT914-tu61"
      },
      "outputs": [],
      "source": [
        "training_sum = fitted_churn_model.summary"
      ]
    },
    {
      "cell_type": "code",
      "execution_count": 17,
      "metadata": {
        "colab": {
          "base_uri": "https://localhost:8080/"
        },
        "id": "A2qxpWeWtu62",
        "outputId": "3f3eea5f-9503-4cbf-9b71-971e68dbb2fe"
      },
      "outputs": [
        {
          "output_type": "stream",
          "name": "stdout",
          "text": [
            "+-------+-------------------+-------------------+\n",
            "|summary|              churn|         prediction|\n",
            "+-------+-------------------+-------------------+\n",
            "|  count|                641|                641|\n",
            "|   mean|0.16536661466458658|0.12480499219968799|\n",
            "| stddev| 0.3718012297534502|   0.33075576484022|\n",
            "|    min|                0.0|                0.0|\n",
            "|    max|                1.0|                1.0|\n",
            "+-------+-------------------+-------------------+\n",
            "\n"
          ]
        }
      ],
      "source": [
        "training_sum.predictions.describe().show()"
      ]
    },
    {
      "cell_type": "markdown",
      "metadata": {
        "id": "_gIBtq-stu62"
      },
      "source": [
        "### Evaluate results\n",
        "\n",
        "Let's evaluate the results on the data set we were given (using the test data)"
      ]
    },
    {
      "cell_type": "code",
      "execution_count": 18,
      "metadata": {
        "collapsed": true,
        "id": "4LXkkzq0tu62"
      },
      "outputs": [],
      "source": [
        "from pyspark.ml.evaluation import BinaryClassificationEvaluator"
      ]
    },
    {
      "cell_type": "code",
      "execution_count": 19,
      "metadata": {
        "collapsed": true,
        "id": "sA8_xr3Dtu63"
      },
      "outputs": [],
      "source": [
        "pred_and_labels = fitted_churn_model.evaluate(test_churn)"
      ]
    },
    {
      "cell_type": "code",
      "execution_count": 20,
      "metadata": {
        "colab": {
          "base_uri": "https://localhost:8080/"
        },
        "id": "jD8ZT3GFtu63",
        "outputId": "46309ccb-bebf-444a-cf15-4177605e11c7"
      },
      "outputs": [
        {
          "output_type": "stream",
          "name": "stdout",
          "text": [
            "+--------------------+-----+--------------------+--------------------+----------+\n",
            "|            features|churn|       rawPrediction|         probability|prediction|\n",
            "+--------------------+-----+--------------------+--------------------+----------+\n",
            "|[27.0,8628.8,1.0,...|    0|[5.58153299098017...|[0.99624734879592...|       0.0|\n",
            "|[28.0,8670.98,0.0...|    0|[8.12668852957653...|[0.99970454204963...|       0.0|\n",
            "|[29.0,8688.17,1.0...|    1|[2.64702460901406...|[0.93382736690441...|       0.0|\n",
            "|[29.0,9617.59,0.0...|    0|[4.57230717602188...|[0.98977161145581...|       0.0|\n",
            "|[29.0,10203.18,1....|    0|[3.83196461751587...|[0.97879249670201...|       0.0|\n",
            "|[29.0,12711.15,0....|    0|[5.64557694103533...|[0.99647932949692...|       0.0|\n",
            "|[30.0,8403.78,1.0...|    0|[6.11384380118893...|[0.99779285044503...|       0.0|\n",
            "|[30.0,8677.28,1.0...|    0|[4.20437375599875...|[0.98528949672285...|       0.0|\n",
            "|[30.0,10744.14,1....|    1|[1.67132230803153...|[0.84175203952269...|       0.0|\n",
            "|[31.0,5387.75,0.0...|    0|[2.45633582998468...|[0.92102354496527...|       0.0|\n",
            "|[31.0,10182.6,1.0...|    0|[4.94430780993628...|[0.99292654616982...|       0.0|\n",
            "|[31.0,11743.24,0....|    0|[7.10372094605666...|[0.99917863473822...|       0.0|\n",
            "|[32.0,7896.65,0.0...|    0|[3.46056563476754...|[0.96954467312222...|       0.0|\n",
            "|[32.0,12142.99,0....|    0|[5.92185401745049...|[0.99732693803006...|       0.0|\n",
            "|[33.0,7492.9,0.0,...|    0|[4.94628593609954...|[0.99294042584265...|       0.0|\n",
            "|[33.0,11370.28,1....|    0|[7.00496834892508...|[0.99909345990679...|       0.0|\n",
            "|[33.0,13157.08,1....|    0|[1.42649112205229...|[0.80635400311327...|       0.0|\n",
            "|[33.0,14160.05,1....|    0|[5.53017412326551...|[0.99605036291209...|       0.0|\n",
            "|[34.0,6131.92,0.0...|    0|[3.85980445175097...|[0.97936275084884...|       0.0|\n",
            "|[34.0,8772.26,0.0...|    0|[2.83941091196465...|[0.94476873119905...|       0.0|\n",
            "+--------------------+-----+--------------------+--------------------+----------+\n",
            "only showing top 20 rows\n",
            "\n"
          ]
        }
      ],
      "source": [
        "pred_and_labels.predictions.show()"
      ]
    },
    {
      "cell_type": "markdown",
      "metadata": {
        "id": "4uQlmQsotu63"
      },
      "source": [
        "### Using AUC"
      ]
    },
    {
      "cell_type": "code",
      "execution_count": 21,
      "metadata": {
        "collapsed": true,
        "id": "eT9tslYitu64"
      },
      "outputs": [],
      "source": [
        "churn_eval = BinaryClassificationEvaluator(rawPredictionCol='prediction',\n",
        "                                           labelCol='churn')"
      ]
    },
    {
      "cell_type": "code",
      "execution_count": 22,
      "metadata": {
        "id": "3zR66jsHtu64"
      },
      "outputs": [],
      "source": [
        "auc = churn_eval.evaluate(pred_and_labels.predictions)"
      ]
    },
    {
      "cell_type": "code",
      "execution_count": 23,
      "metadata": {
        "colab": {
          "base_uri": "https://localhost:8080/"
        },
        "id": "aj4i20l-tu64",
        "outputId": "5d36b3b4-be25-4136-a6de-28059f835458"
      },
      "outputs": [
        {
          "output_type": "execute_result",
          "data": {
            "text/plain": [
              "0.7675475687103593"
            ]
          },
          "metadata": {},
          "execution_count": 23
        }
      ],
      "source": [
        "auc"
      ]
    },
    {
      "cell_type": "markdown",
      "metadata": {
        "id": "ZHNSK2Ictu65"
      },
      "source": [
        "### Predict on brand new unlabeled data\n",
        "\n",
        "We still need to evaluate the new_customers.csv file!"
      ]
    },
    {
      "cell_type": "code",
      "execution_count": 24,
      "metadata": {
        "collapsed": true,
        "id": "q7Njey56tu65"
      },
      "outputs": [],
      "source": [
        "final_lr_model = lr_churn.fit(final_data)"
      ]
    },
    {
      "cell_type": "code",
      "execution_count": 25,
      "metadata": {
        "collapsed": true,
        "id": "-G0QjC4ztu66"
      },
      "outputs": [],
      "source": [
        "new_customers = spark.read.csv('new_customers.csv',inferSchema=True,\n",
        "                              header=True)"
      ]
    },
    {
      "cell_type": "code",
      "execution_count": 26,
      "metadata": {
        "colab": {
          "base_uri": "https://localhost:8080/"
        },
        "id": "Q93uTsvPtu66",
        "outputId": "98e07425-858f-4de5-d6ae-d8a09d1d34c6"
      },
      "outputs": [
        {
          "output_type": "stream",
          "name": "stdout",
          "text": [
            "root\n",
            " |-- Names: string (nullable = true)\n",
            " |-- Age: double (nullable = true)\n",
            " |-- Total_Purchase: double (nullable = true)\n",
            " |-- Account_Manager: integer (nullable = true)\n",
            " |-- Years: double (nullable = true)\n",
            " |-- Num_Sites: double (nullable = true)\n",
            " |-- Onboard_date: timestamp (nullable = true)\n",
            " |-- Location: string (nullable = true)\n",
            " |-- Company: string (nullable = true)\n",
            "\n"
          ]
        }
      ],
      "source": [
        "new_customers.printSchema()"
      ]
    },
    {
      "cell_type": "code",
      "execution_count": 27,
      "metadata": {
        "collapsed": true,
        "id": "qgTEmwoBtu67"
      },
      "outputs": [],
      "source": [
        "test_new_customers = assembler.transform(new_customers)"
      ]
    },
    {
      "cell_type": "code",
      "execution_count": 28,
      "metadata": {
        "colab": {
          "base_uri": "https://localhost:8080/"
        },
        "id": "L4gbYhq-tu67",
        "outputId": "2c0c03b5-a306-4675-82e3-e7ff16be24c4"
      },
      "outputs": [
        {
          "output_type": "stream",
          "name": "stdout",
          "text": [
            "root\n",
            " |-- Names: string (nullable = true)\n",
            " |-- Age: double (nullable = true)\n",
            " |-- Total_Purchase: double (nullable = true)\n",
            " |-- Account_Manager: integer (nullable = true)\n",
            " |-- Years: double (nullable = true)\n",
            " |-- Num_Sites: double (nullable = true)\n",
            " |-- Onboard_date: timestamp (nullable = true)\n",
            " |-- Location: string (nullable = true)\n",
            " |-- Company: string (nullable = true)\n",
            " |-- features: vector (nullable = true)\n",
            "\n"
          ]
        }
      ],
      "source": [
        "test_new_customers.printSchema()"
      ]
    },
    {
      "cell_type": "code",
      "execution_count": 29,
      "metadata": {
        "collapsed": true,
        "id": "NwsytOv0tu68"
      },
      "outputs": [],
      "source": [
        "final_results = final_lr_model.transform(test_new_customers)"
      ]
    },
    {
      "cell_type": "code",
      "execution_count": 30,
      "metadata": {
        "colab": {
          "base_uri": "https://localhost:8080/"
        },
        "id": "6sM8T631tu68",
        "outputId": "5869d5b6-703c-4d5b-d9b6-82f4fce58495"
      },
      "outputs": [
        {
          "output_type": "stream",
          "name": "stdout",
          "text": [
            "+----------------+----------+\n",
            "|         Company|prediction|\n",
            "+----------------+----------+\n",
            "|        King Ltd|       0.0|\n",
            "|   Cannon-Benson|       1.0|\n",
            "|Barron-Robertson|       1.0|\n",
            "|   Sexton-Golden|       1.0|\n",
            "|        Wood LLC|       0.0|\n",
            "|   Parks-Robbins|       1.0|\n",
            "+----------------+----------+\n",
            "\n"
          ]
        }
      ],
      "source": [
        "final_results.select('Company','prediction').show()"
      ]
    },
    {
      "cell_type": "markdown",
      "metadata": {
        "id": "Oy5-3uDutu7K"
      },
      "source": [
        "Ok! That is it! Now we know that we should assign Acocunt Managers to Cannon-Benson,Barron-Robertson,Sexton-GOlden, and Parks-Robbins!"
      ]
    }
  ],
  "metadata": {
    "anaconda-cloud": {},
    "kernelspec": {
      "display_name": "Python [conda root]",
      "language": "python",
      "name": "conda-root-py"
    },
    "language_info": {
      "codemirror_mode": {
        "name": "ipython",
        "version": 3
      },
      "file_extension": ".py",
      "mimetype": "text/x-python",
      "name": "python",
      "nbconvert_exporter": "python",
      "pygments_lexer": "ipython3",
      "version": "3.5.3"
    },
    "colab": {
      "provenance": []
    }
  },
  "nbformat": 4,
  "nbformat_minor": 0
}